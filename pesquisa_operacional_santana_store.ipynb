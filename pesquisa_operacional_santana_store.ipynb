{
  "nbformat": 4,
  "nbformat_minor": 0,
  "metadata": {
    "colab": {
      "name": "pesquisa-operacional-santana-store",
      "provenance": []
    },
    "kernelspec": {
      "name": "python3",
      "display_name": "Python 3"
    }
  },
  "cells": [
    {
      "cell_type": "code",
      "metadata": {
        "id": "Z6D00a1fPu6d"
      },
      "source": [
        "!pip install pulp"
      ],
      "execution_count": null,
      "outputs": []
    },
    {
      "cell_type": "code",
      "metadata": {
        "id": "Ly68l9aMgQ9M",
        "outputId": "d2421331-daff-461e-a4ce-ba1f891a6a4e",
        "colab": {
          "base_uri": "https://localhost:8080/"
        }
      },
      "source": [
        "# !pip install pulp\n",
        "import pulp\n",
        "\n",
        "# Definir o modelo\n",
        "model = pulp.LpProblem('Otimizar_Estoque', sense=pulp.LpMaximize)\n",
        "\n",
        "# Adicionar as variáveis\n",
        "x = pulp.LpVariable.dicts(indexs=[1, 2], cat=pulp.LpContinuous, lowBound=0, name='x')\n",
        "\n",
        "# Adicionar as Restrições\n",
        "model.addConstraint(10*x[1] + 30*x[2] == 1000, name='restricao_1')\n",
        "model.addConstraint(x[1] >= 25, name='restricao_2')\n",
        "model.addConstraint(x[2] >= 15, name='restricao_3')\n",
        "\n",
        "# Função Objetivo\n",
        "model.setObjective(10* x[1] + 30* x[2])\n",
        "\n",
        "# Optimizar\n",
        "model.solve()\n",
        "\n",
        "# Obter e imprimir a solução\n",
        "x_sol = {i: x[i].value() for i in [1, 2]}\n",
        "print(f'x = {x_sol}')\n"
      ],
      "execution_count": 6,
      "outputs": [
        {
          "output_type": "stream",
          "text": [
            "x = {1: 25.0, 2: 25.0}\n"
          ],
          "name": "stdout"
        }
      ]
    },
    {
      "cell_type": "code",
      "metadata": {
        "id": "N1Q6Ovj9dPXF"
      },
      "source": [
        ""
      ],
      "execution_count": null,
      "outputs": []
    }
  ]
}